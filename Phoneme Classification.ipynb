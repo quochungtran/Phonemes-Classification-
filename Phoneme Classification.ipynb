{
 "cells": [
  {
   "cell_type": "markdown",
   "metadata": {},
   "source": []
  },
  {
   "cell_type": "markdown",
   "metadata": {},
   "source": [
    "\n",
    "# Introduction\n",
    "\n",
    "    This report presents the various methods applied for the resolution of two problems of classification in a first part then for a problem of regression in a second. For our two three problems, a partitioning of the data into a set of training data and a set of test data is carried out and a creation of cross-validation functions as this allows the objective comparison of the models built. We have chosen to create our classification and regression models with non-standardized data. The format of the expected . Moreover, standardizing the data of the training file and the test file independently showed a tendency to accentuate the misclassification rate or the MSE.\n",
    "\n",
    "# Classification problem \n",
    "\n",
    "    The problem treated in this first part is a classification problem. The variable to be explained, y, is nominal qualitative with 5 modalities {aa,ao,dcl,iy,sh}. To predict this variable, we have 256 quantitative explanatory variables whose values seem to be centered and reduced. We have 2250 complete statements.\n",
    "    \n",
    "    We will note n, the number of readings and p, the number of explanatory variables. Here we therefore have large n (n=2250) and large p (p=256).\n"
   ]
  },
  {
   "cell_type": "code",
   "execution_count": 1,
   "metadata": {
    "colab": {
     "base_uri": "https://localhost:8080/",
     "height": 594
    },
    "id": "rl-P-xDcej08",
    "outputId": "80e12dd3-a7cb-42a9-da69-86ec867cae9c"
   },
   "outputs": [],
   "source": [
    "import pandas as pd\n",
    "from pandas import DataFrame as df\n",
    "\n",
    "# Python ≥3.5 is required\n",
    "import sys\n",
    "\n",
    "# Scikit-Learn ≥0.20 is required\n",
    "import sklearn\n",
    "\n",
    "# Common imports\n",
    "import numpy as np\n",
    "import os\n",
    "\n",
    "# to make this notebook's output stable across runs\n",
    "np.random.seed(42)\n",
    "\n",
    "# To plot pretty figures\n",
    "%matplotlib inline\n",
    "import matplotlib as mpl\n",
    "import matplotlib.pyplot as plt"
   ]
  },
  {
   "cell_type": "code",
   "execution_count": 2,
   "metadata": {},
   "outputs": [
    {
     "name": "stdout",
     "output_type": "stream",
     "text": [
      "Requirement already satisfied: pandas in /home/tranquochung/.local/lib/python3.9/site-packages (1.4.1)\n",
      "Requirement already satisfied: numpy>=1.18.5 in /usr/local/lib/python3.9/dist-packages (from pandas) (1.22.2)\n",
      "Requirement already satisfied: python-dateutil>=2.8.1 in /usr/lib/python3/dist-packages (from pandas) (2.8.1)\n",
      "Requirement already satisfied: pytz>=2020.1 in /usr/lib/python3/dist-packages (from pandas) (2021.1)\n",
      "Note: you may need to restart the kernel to use updated packages.\n"
     ]
    }
   ],
   "source": [
    "pip install pandas"
   ]
  },
  {
   "cell_type": "markdown",
   "metadata": {
    "id": "EgTjdIxpuy4Y"
   },
   "source": [
    "#Preprocessing basique\n",
    "Ici, on divise le jeu de données en différentes parties pour la valdiation croisée."
   ]
  },
  {
   "cell_type": "markdown",
   "metadata": {
    "id": "iWWmplcbjD8Z"
   },
   "source": [
    "# Take a Quick Look at the Data Structure"
   ]
  },
  {
   "cell_type": "code",
   "execution_count": 3,
   "metadata": {
    "scrolled": true
   },
   "outputs": [
    {
     "data": {
      "text/html": [
       "<div>\n",
       "<style scoped>\n",
       "    .dataframe tbody tr th:only-of-type {\n",
       "        vertical-align: middle;\n",
       "    }\n",
       "\n",
       "    .dataframe tbody tr th {\n",
       "        vertical-align: top;\n",
       "    }\n",
       "\n",
       "    .dataframe thead th {\n",
       "        text-align: right;\n",
       "    }\n",
       "</style>\n",
       "<table border=\"1\" class=\"dataframe\">\n",
       "  <thead>\n",
       "    <tr style=\"text-align: right;\">\n",
       "      <th></th>\n",
       "      <th>X1</th>\n",
       "      <th>X2</th>\n",
       "      <th>X3</th>\n",
       "      <th>X4</th>\n",
       "      <th>X5</th>\n",
       "      <th>X6</th>\n",
       "      <th>X7</th>\n",
       "      <th>X8</th>\n",
       "      <th>X9</th>\n",
       "      <th>X10</th>\n",
       "      <th>...</th>\n",
       "      <th>X248</th>\n",
       "      <th>X249</th>\n",
       "      <th>X250</th>\n",
       "      <th>X251</th>\n",
       "      <th>X252</th>\n",
       "      <th>X253</th>\n",
       "      <th>X254</th>\n",
       "      <th>X255</th>\n",
       "      <th>X256</th>\n",
       "      <th>y</th>\n",
       "    </tr>\n",
       "  </thead>\n",
       "  <tbody>\n",
       "    <tr>\n",
       "      <th>2917</th>\n",
       "      <td>-1.175735</td>\n",
       "      <td>-1.650645</td>\n",
       "      <td>-1.518300</td>\n",
       "      <td>-1.696710</td>\n",
       "      <td>-1.861101</td>\n",
       "      <td>-1.915848</td>\n",
       "      <td>-1.562310</td>\n",
       "      <td>-2.111612</td>\n",
       "      <td>-1.532035</td>\n",
       "      <td>-0.629194</td>\n",
       "      <td>...</td>\n",
       "      <td>-1.054724</td>\n",
       "      <td>-2.130023</td>\n",
       "      <td>-1.134176</td>\n",
       "      <td>-1.769565</td>\n",
       "      <td>-1.943537</td>\n",
       "      <td>-2.303772</td>\n",
       "      <td>-1.574041</td>\n",
       "      <td>-1.696654</td>\n",
       "      <td>-2.254121</td>\n",
       "      <td>dcl</td>\n",
       "    </tr>\n",
       "    <tr>\n",
       "      <th>3585</th>\n",
       "      <td>0.619878</td>\n",
       "      <td>1.482367</td>\n",
       "      <td>0.048485</td>\n",
       "      <td>1.241911</td>\n",
       "      <td>-0.236970</td>\n",
       "      <td>1.282777</td>\n",
       "      <td>-0.683276</td>\n",
       "      <td>0.872537</td>\n",
       "      <td>1.110080</td>\n",
       "      <td>-0.650759</td>\n",
       "      <td>...</td>\n",
       "      <td>-0.386911</td>\n",
       "      <td>0.289831</td>\n",
       "      <td>-0.315394</td>\n",
       "      <td>0.892251</td>\n",
       "      <td>0.528590</td>\n",
       "      <td>1.140884</td>\n",
       "      <td>0.691302</td>\n",
       "      <td>0.837480</td>\n",
       "      <td>0.733473</td>\n",
       "      <td>ao</td>\n",
       "    </tr>\n",
       "    <tr>\n",
       "      <th>1362</th>\n",
       "      <td>0.222589</td>\n",
       "      <td>-0.571834</td>\n",
       "      <td>0.156863</td>\n",
       "      <td>0.061080</td>\n",
       "      <td>1.083113</td>\n",
       "      <td>-0.273993</td>\n",
       "      <td>-0.102853</td>\n",
       "      <td>-0.593776</td>\n",
       "      <td>0.258496</td>\n",
       "      <td>-0.150921</td>\n",
       "      <td>...</td>\n",
       "      <td>0.188335</td>\n",
       "      <td>0.999129</td>\n",
       "      <td>0.329852</td>\n",
       "      <td>0.655471</td>\n",
       "      <td>0.068178</td>\n",
       "      <td>-0.321057</td>\n",
       "      <td>-0.757614</td>\n",
       "      <td>-0.623948</td>\n",
       "      <td>1.120193</td>\n",
       "      <td>iy</td>\n",
       "    </tr>\n",
       "    <tr>\n",
       "      <th>417</th>\n",
       "      <td>-0.588873</td>\n",
       "      <td>0.122128</td>\n",
       "      <td>-1.189937</td>\n",
       "      <td>0.152294</td>\n",
       "      <td>-0.151608</td>\n",
       "      <td>-0.079173</td>\n",
       "      <td>-0.952635</td>\n",
       "      <td>-0.813170</td>\n",
       "      <td>0.468880</td>\n",
       "      <td>-0.243402</td>\n",
       "      <td>...</td>\n",
       "      <td>-0.101033</td>\n",
       "      <td>1.345664</td>\n",
       "      <td>-0.409508</td>\n",
       "      <td>0.268673</td>\n",
       "      <td>0.136143</td>\n",
       "      <td>0.263129</td>\n",
       "      <td>0.697071</td>\n",
       "      <td>0.595379</td>\n",
       "      <td>0.712218</td>\n",
       "      <td>iy</td>\n",
       "    </tr>\n",
       "    <tr>\n",
       "      <th>1381</th>\n",
       "      <td>0.169617</td>\n",
       "      <td>-0.439559</td>\n",
       "      <td>-0.546041</td>\n",
       "      <td>-0.645742</td>\n",
       "      <td>1.211735</td>\n",
       "      <td>-0.401588</td>\n",
       "      <td>0.296695</td>\n",
       "      <td>-0.843744</td>\n",
       "      <td>1.331541</td>\n",
       "      <td>0.135480</td>\n",
       "      <td>...</td>\n",
       "      <td>0.203967</td>\n",
       "      <td>0.729383</td>\n",
       "      <td>-0.843438</td>\n",
       "      <td>1.115614</td>\n",
       "      <td>0.502869</td>\n",
       "      <td>-0.850832</td>\n",
       "      <td>0.692746</td>\n",
       "      <td>0.080672</td>\n",
       "      <td>-0.003578</td>\n",
       "      <td>iy</td>\n",
       "    </tr>\n",
       "  </tbody>\n",
       "</table>\n",
       "<p>5 rows × 257 columns</p>\n",
       "</div>"
      ],
      "text/plain": [
       "            X1        X2        X3        X4        X5        X6        X7  \\\n",
       "2917 -1.175735 -1.650645 -1.518300 -1.696710 -1.861101 -1.915848 -1.562310   \n",
       "3585  0.619878  1.482367  0.048485  1.241911 -0.236970  1.282777 -0.683276   \n",
       "1362  0.222589 -0.571834  0.156863  0.061080  1.083113 -0.273993 -0.102853   \n",
       "417  -0.588873  0.122128 -1.189937  0.152294 -0.151608 -0.079173 -0.952635   \n",
       "1381  0.169617 -0.439559 -0.546041 -0.645742  1.211735 -0.401588  0.296695   \n",
       "\n",
       "            X8        X9       X10  ...      X248      X249      X250  \\\n",
       "2917 -2.111612 -1.532035 -0.629194  ... -1.054724 -2.130023 -1.134176   \n",
       "3585  0.872537  1.110080 -0.650759  ... -0.386911  0.289831 -0.315394   \n",
       "1362 -0.593776  0.258496 -0.150921  ...  0.188335  0.999129  0.329852   \n",
       "417  -0.813170  0.468880 -0.243402  ... -0.101033  1.345664 -0.409508   \n",
       "1381 -0.843744  1.331541  0.135480  ...  0.203967  0.729383 -0.843438   \n",
       "\n",
       "          X251      X252      X253      X254      X255      X256    y  \n",
       "2917 -1.769565 -1.943537 -2.303772 -1.574041 -1.696654 -2.254121  dcl  \n",
       "3585  0.892251  0.528590  1.140884  0.691302  0.837480  0.733473   ao  \n",
       "1362  0.655471  0.068178 -0.321057 -0.757614 -0.623948  1.120193   iy  \n",
       "417   0.268673  0.136143  0.263129  0.697071  0.595379  0.712218   iy  \n",
       "1381  1.115614  0.502869 -0.850832  0.692746  0.080672 -0.003578   iy  \n",
       "\n",
       "[5 rows x 257 columns]"
      ]
     },
     "execution_count": 3,
     "metadata": {},
     "output_type": "execute_result"
    }
   ],
   "source": [
    "filename = 'data/parole_train.txt'\n",
    "\n",
    "# import numpy as np\n",
    "# data = np.loadtxt(filename, delimiter=',', skiprows=1, dtype=str)\n",
    "# print(data)\n",
    "\n",
    "data = pd.read_csv(filename, sep=\" \")\n",
    "data.head()"
   ]
  },
  {
   "cell_type": "code",
   "execution_count": 4,
   "metadata": {},
   "outputs": [
    {
     "data": {
      "text/plain": [
       "(2250, 257)"
      ]
     },
     "execution_count": 4,
     "metadata": {},
     "output_type": "execute_result"
    }
   ],
   "source": [
    "data.shape"
   ]
  },
  {
   "cell_type": "code",
   "execution_count": 5,
   "metadata": {},
   "outputs": [
    {
     "data": {
      "text/html": [
       "<div>\n",
       "<style scoped>\n",
       "    .dataframe tbody tr th:only-of-type {\n",
       "        vertical-align: middle;\n",
       "    }\n",
       "\n",
       "    .dataframe tbody tr th {\n",
       "        vertical-align: top;\n",
       "    }\n",
       "\n",
       "    .dataframe thead th {\n",
       "        text-align: right;\n",
       "    }\n",
       "</style>\n",
       "<table border=\"1\" class=\"dataframe\">\n",
       "  <thead>\n",
       "    <tr style=\"text-align: right;\">\n",
       "      <th></th>\n",
       "      <th>X1</th>\n",
       "      <th>X2</th>\n",
       "      <th>X3</th>\n",
       "      <th>X4</th>\n",
       "      <th>X5</th>\n",
       "      <th>X6</th>\n",
       "      <th>X7</th>\n",
       "      <th>X8</th>\n",
       "      <th>X9</th>\n",
       "      <th>X10</th>\n",
       "      <th>...</th>\n",
       "      <th>X248</th>\n",
       "      <th>X249</th>\n",
       "      <th>X250</th>\n",
       "      <th>X251</th>\n",
       "      <th>X252</th>\n",
       "      <th>X253</th>\n",
       "      <th>X254</th>\n",
       "      <th>X255</th>\n",
       "      <th>X256</th>\n",
       "      <th>y</th>\n",
       "    </tr>\n",
       "  </thead>\n",
       "  <tbody>\n",
       "    <tr>\n",
       "      <th>0</th>\n",
       "      <td>-1.175735</td>\n",
       "      <td>-1.650645</td>\n",
       "      <td>-1.518300</td>\n",
       "      <td>-1.696710</td>\n",
       "      <td>-1.861101</td>\n",
       "      <td>-1.915848</td>\n",
       "      <td>-1.562310</td>\n",
       "      <td>-2.111612</td>\n",
       "      <td>-1.532035</td>\n",
       "      <td>-0.629194</td>\n",
       "      <td>...</td>\n",
       "      <td>-1.054724</td>\n",
       "      <td>-2.130023</td>\n",
       "      <td>-1.134176</td>\n",
       "      <td>-1.769565</td>\n",
       "      <td>-1.943537</td>\n",
       "      <td>-2.303772</td>\n",
       "      <td>-1.574041</td>\n",
       "      <td>-1.696654</td>\n",
       "      <td>-2.254121</td>\n",
       "      <td>dcl</td>\n",
       "    </tr>\n",
       "    <tr>\n",
       "      <th>1</th>\n",
       "      <td>0.619878</td>\n",
       "      <td>1.482367</td>\n",
       "      <td>0.048485</td>\n",
       "      <td>1.241911</td>\n",
       "      <td>-0.236970</td>\n",
       "      <td>1.282777</td>\n",
       "      <td>-0.683276</td>\n",
       "      <td>0.872537</td>\n",
       "      <td>1.110080</td>\n",
       "      <td>-0.650759</td>\n",
       "      <td>...</td>\n",
       "      <td>-0.386911</td>\n",
       "      <td>0.289831</td>\n",
       "      <td>-0.315394</td>\n",
       "      <td>0.892251</td>\n",
       "      <td>0.528590</td>\n",
       "      <td>1.140884</td>\n",
       "      <td>0.691302</td>\n",
       "      <td>0.837480</td>\n",
       "      <td>0.733473</td>\n",
       "      <td>ao</td>\n",
       "    </tr>\n",
       "    <tr>\n",
       "      <th>2</th>\n",
       "      <td>0.222589</td>\n",
       "      <td>-0.571834</td>\n",
       "      <td>0.156863</td>\n",
       "      <td>0.061080</td>\n",
       "      <td>1.083113</td>\n",
       "      <td>-0.273993</td>\n",
       "      <td>-0.102853</td>\n",
       "      <td>-0.593776</td>\n",
       "      <td>0.258496</td>\n",
       "      <td>-0.150921</td>\n",
       "      <td>...</td>\n",
       "      <td>0.188335</td>\n",
       "      <td>0.999129</td>\n",
       "      <td>0.329852</td>\n",
       "      <td>0.655471</td>\n",
       "      <td>0.068178</td>\n",
       "      <td>-0.321057</td>\n",
       "      <td>-0.757614</td>\n",
       "      <td>-0.623948</td>\n",
       "      <td>1.120193</td>\n",
       "      <td>iy</td>\n",
       "    </tr>\n",
       "    <tr>\n",
       "      <th>3</th>\n",
       "      <td>-0.588873</td>\n",
       "      <td>0.122128</td>\n",
       "      <td>-1.189937</td>\n",
       "      <td>0.152294</td>\n",
       "      <td>-0.151608</td>\n",
       "      <td>-0.079173</td>\n",
       "      <td>-0.952635</td>\n",
       "      <td>-0.813170</td>\n",
       "      <td>0.468880</td>\n",
       "      <td>-0.243402</td>\n",
       "      <td>...</td>\n",
       "      <td>-0.101033</td>\n",
       "      <td>1.345664</td>\n",
       "      <td>-0.409508</td>\n",
       "      <td>0.268673</td>\n",
       "      <td>0.136143</td>\n",
       "      <td>0.263129</td>\n",
       "      <td>0.697071</td>\n",
       "      <td>0.595379</td>\n",
       "      <td>0.712218</td>\n",
       "      <td>iy</td>\n",
       "    </tr>\n",
       "    <tr>\n",
       "      <th>4</th>\n",
       "      <td>0.169617</td>\n",
       "      <td>-0.439559</td>\n",
       "      <td>-0.546041</td>\n",
       "      <td>-0.645742</td>\n",
       "      <td>1.211735</td>\n",
       "      <td>-0.401588</td>\n",
       "      <td>0.296695</td>\n",
       "      <td>-0.843744</td>\n",
       "      <td>1.331541</td>\n",
       "      <td>0.135480</td>\n",
       "      <td>...</td>\n",
       "      <td>0.203967</td>\n",
       "      <td>0.729383</td>\n",
       "      <td>-0.843438</td>\n",
       "      <td>1.115614</td>\n",
       "      <td>0.502869</td>\n",
       "      <td>-0.850832</td>\n",
       "      <td>0.692746</td>\n",
       "      <td>0.080672</td>\n",
       "      <td>-0.003578</td>\n",
       "      <td>iy</td>\n",
       "    </tr>\n",
       "    <tr>\n",
       "      <th>...</th>\n",
       "      <td>...</td>\n",
       "      <td>...</td>\n",
       "      <td>...</td>\n",
       "      <td>...</td>\n",
       "      <td>...</td>\n",
       "      <td>...</td>\n",
       "      <td>...</td>\n",
       "      <td>...</td>\n",
       "      <td>...</td>\n",
       "      <td>...</td>\n",
       "      <td>...</td>\n",
       "      <td>...</td>\n",
       "      <td>...</td>\n",
       "      <td>...</td>\n",
       "      <td>...</td>\n",
       "      <td>...</td>\n",
       "      <td>...</td>\n",
       "      <td>...</td>\n",
       "      <td>...</td>\n",
       "      <td>...</td>\n",
       "      <td>...</td>\n",
       "    </tr>\n",
       "    <tr>\n",
       "      <th>2245</th>\n",
       "      <td>-0.503580</td>\n",
       "      <td>-1.114283</td>\n",
       "      <td>-1.797796</td>\n",
       "      <td>-0.745725</td>\n",
       "      <td>0.953038</td>\n",
       "      <td>-0.152635</td>\n",
       "      <td>-1.352458</td>\n",
       "      <td>-1.201237</td>\n",
       "      <td>1.235093</td>\n",
       "      <td>-0.231705</td>\n",
       "      <td>...</td>\n",
       "      <td>-0.778305</td>\n",
       "      <td>0.485137</td>\n",
       "      <td>-1.053465</td>\n",
       "      <td>1.185167</td>\n",
       "      <td>-1.225715</td>\n",
       "      <td>-0.630292</td>\n",
       "      <td>0.594493</td>\n",
       "      <td>0.477841</td>\n",
       "      <td>1.091948</td>\n",
       "      <td>iy</td>\n",
       "    </tr>\n",
       "    <tr>\n",
       "      <th>2246</th>\n",
       "      <td>-0.705569</td>\n",
       "      <td>-1.497737</td>\n",
       "      <td>-1.527302</td>\n",
       "      <td>-1.810176</td>\n",
       "      <td>-1.254971</td>\n",
       "      <td>-1.887304</td>\n",
       "      <td>-1.256131</td>\n",
       "      <td>-2.050361</td>\n",
       "      <td>-2.049298</td>\n",
       "      <td>-1.255114</td>\n",
       "      <td>...</td>\n",
       "      <td>-1.462229</td>\n",
       "      <td>-2.121737</td>\n",
       "      <td>-1.247307</td>\n",
       "      <td>-1.358038</td>\n",
       "      <td>-2.121302</td>\n",
       "      <td>-3.175024</td>\n",
       "      <td>-1.604009</td>\n",
       "      <td>-1.175687</td>\n",
       "      <td>-1.827247</td>\n",
       "      <td>dcl</td>\n",
       "    </tr>\n",
       "    <tr>\n",
       "      <th>2247</th>\n",
       "      <td>1.440042</td>\n",
       "      <td>0.081470</td>\n",
       "      <td>1.163438</td>\n",
       "      <td>0.083069</td>\n",
       "      <td>-0.650143</td>\n",
       "      <td>0.113956</td>\n",
       "      <td>1.855988</td>\n",
       "      <td>0.309624</td>\n",
       "      <td>0.766927</td>\n",
       "      <td>-0.178972</td>\n",
       "      <td>...</td>\n",
       "      <td>1.983458</td>\n",
       "      <td>-0.104942</td>\n",
       "      <td>2.224396</td>\n",
       "      <td>1.176499</td>\n",
       "      <td>0.652176</td>\n",
       "      <td>-0.130681</td>\n",
       "      <td>1.073464</td>\n",
       "      <td>1.425257</td>\n",
       "      <td>-0.024198</td>\n",
       "      <td>sh</td>\n",
       "    </tr>\n",
       "    <tr>\n",
       "      <th>2248</th>\n",
       "      <td>-1.007842</td>\n",
       "      <td>-1.715236</td>\n",
       "      <td>-1.022884</td>\n",
       "      <td>-1.241708</td>\n",
       "      <td>-1.118822</td>\n",
       "      <td>-1.397690</td>\n",
       "      <td>-0.927600</td>\n",
       "      <td>-1.862858</td>\n",
       "      <td>-2.229797</td>\n",
       "      <td>-0.821927</td>\n",
       "      <td>...</td>\n",
       "      <td>-1.584820</td>\n",
       "      <td>-2.045264</td>\n",
       "      <td>-1.552007</td>\n",
       "      <td>-1.678828</td>\n",
       "      <td>-0.583200</td>\n",
       "      <td>-0.566004</td>\n",
       "      <td>-1.167270</td>\n",
       "      <td>-1.626018</td>\n",
       "      <td>-1.611162</td>\n",
       "      <td>dcl</td>\n",
       "    </tr>\n",
       "    <tr>\n",
       "      <th>2249</th>\n",
       "      <td>-1.198846</td>\n",
       "      <td>-0.898301</td>\n",
       "      <td>-0.692284</td>\n",
       "      <td>-0.758330</td>\n",
       "      <td>0.950009</td>\n",
       "      <td>-1.094115</td>\n",
       "      <td>-1.771525</td>\n",
       "      <td>-0.111926</td>\n",
       "      <td>0.511282</td>\n",
       "      <td>0.468053</td>\n",
       "      <td>...</td>\n",
       "      <td>-1.246093</td>\n",
       "      <td>-0.015198</td>\n",
       "      <td>-0.859044</td>\n",
       "      <td>0.274098</td>\n",
       "      <td>-0.480812</td>\n",
       "      <td>-0.408878</td>\n",
       "      <td>0.026823</td>\n",
       "      <td>0.145335</td>\n",
       "      <td>0.269192</td>\n",
       "      <td>iy</td>\n",
       "    </tr>\n",
       "  </tbody>\n",
       "</table>\n",
       "<p>2250 rows × 257 columns</p>\n",
       "</div>"
      ],
      "text/plain": [
       "            X1        X2        X3        X4        X5        X6        X7  \\\n",
       "0    -1.175735 -1.650645 -1.518300 -1.696710 -1.861101 -1.915848 -1.562310   \n",
       "1     0.619878  1.482367  0.048485  1.241911 -0.236970  1.282777 -0.683276   \n",
       "2     0.222589 -0.571834  0.156863  0.061080  1.083113 -0.273993 -0.102853   \n",
       "3    -0.588873  0.122128 -1.189937  0.152294 -0.151608 -0.079173 -0.952635   \n",
       "4     0.169617 -0.439559 -0.546041 -0.645742  1.211735 -0.401588  0.296695   \n",
       "...        ...       ...       ...       ...       ...       ...       ...   \n",
       "2245 -0.503580 -1.114283 -1.797796 -0.745725  0.953038 -0.152635 -1.352458   \n",
       "2246 -0.705569 -1.497737 -1.527302 -1.810176 -1.254971 -1.887304 -1.256131   \n",
       "2247  1.440042  0.081470  1.163438  0.083069 -0.650143  0.113956  1.855988   \n",
       "2248 -1.007842 -1.715236 -1.022884 -1.241708 -1.118822 -1.397690 -0.927600   \n",
       "2249 -1.198846 -0.898301 -0.692284 -0.758330  0.950009 -1.094115 -1.771525   \n",
       "\n",
       "            X8        X9       X10  ...      X248      X249      X250  \\\n",
       "0    -2.111612 -1.532035 -0.629194  ... -1.054724 -2.130023 -1.134176   \n",
       "1     0.872537  1.110080 -0.650759  ... -0.386911  0.289831 -0.315394   \n",
       "2    -0.593776  0.258496 -0.150921  ...  0.188335  0.999129  0.329852   \n",
       "3    -0.813170  0.468880 -0.243402  ... -0.101033  1.345664 -0.409508   \n",
       "4    -0.843744  1.331541  0.135480  ...  0.203967  0.729383 -0.843438   \n",
       "...        ...       ...       ...  ...       ...       ...       ...   \n",
       "2245 -1.201237  1.235093 -0.231705  ... -0.778305  0.485137 -1.053465   \n",
       "2246 -2.050361 -2.049298 -1.255114  ... -1.462229 -2.121737 -1.247307   \n",
       "2247  0.309624  0.766927 -0.178972  ...  1.983458 -0.104942  2.224396   \n",
       "2248 -1.862858 -2.229797 -0.821927  ... -1.584820 -2.045264 -1.552007   \n",
       "2249 -0.111926  0.511282  0.468053  ... -1.246093 -0.015198 -0.859044   \n",
       "\n",
       "          X251      X252      X253      X254      X255      X256    y  \n",
       "0    -1.769565 -1.943537 -2.303772 -1.574041 -1.696654 -2.254121  dcl  \n",
       "1     0.892251  0.528590  1.140884  0.691302  0.837480  0.733473   ao  \n",
       "2     0.655471  0.068178 -0.321057 -0.757614 -0.623948  1.120193   iy  \n",
       "3     0.268673  0.136143  0.263129  0.697071  0.595379  0.712218   iy  \n",
       "4     1.115614  0.502869 -0.850832  0.692746  0.080672 -0.003578   iy  \n",
       "...        ...       ...       ...       ...       ...       ...  ...  \n",
       "2245  1.185167 -1.225715 -0.630292  0.594493  0.477841  1.091948   iy  \n",
       "2246 -1.358038 -2.121302 -3.175024 -1.604009 -1.175687 -1.827247  dcl  \n",
       "2247  1.176499  0.652176 -0.130681  1.073464  1.425257 -0.024198   sh  \n",
       "2248 -1.678828 -0.583200 -0.566004 -1.167270 -1.626018 -1.611162  dcl  \n",
       "2249  0.274098 -0.480812 -0.408878  0.026823  0.145335  0.269192   iy  \n",
       "\n",
       "[2250 rows x 257 columns]"
      ]
     },
     "execution_count": 5,
     "metadata": {},
     "output_type": "execute_result"
    }
   ],
   "source": [
    "# reassign index of data \n",
    "\n",
    "data.sort_index(axis = 0)\n",
    "data.index = range(0, data.shape[0])\n",
    "\n",
    "data"
   ]
  },
  {
   "cell_type": "code",
   "execution_count": 6,
   "metadata": {
    "scrolled": true
   },
   "outputs": [
    {
     "name": "stdout",
     "output_type": "stream",
     "text": [
      "<class 'pandas.core.frame.DataFrame'>\n",
      "RangeIndex: 2250 entries, 0 to 2249\n",
      "Columns: 257 entries, X1 to y\n",
      "dtypes: float64(256), object(1)\n",
      "memory usage: 4.4+ MB\n"
     ]
    }
   ],
   "source": [
    "data.info()"
   ]
  },
  {
   "cell_type": "code",
   "execution_count": 7,
   "metadata": {},
   "outputs": [
    {
     "data": {
      "text/plain": [
       "iy     586\n",
       "ao     508\n",
       "sh     429\n",
       "dcl    394\n",
       "aa     333\n",
       "Name: y, dtype: int64"
      ]
     },
     "execution_count": 7,
     "metadata": {},
     "output_type": "execute_result"
    }
   ],
   "source": [
    "data['y'].value_counts()"
   ]
  },
  {
   "cell_type": "code",
   "execution_count": 8,
   "metadata": {},
   "outputs": [
    {
     "data": {
      "text/html": [
       "<div>\n",
       "<style scoped>\n",
       "    .dataframe tbody tr th:only-of-type {\n",
       "        vertical-align: middle;\n",
       "    }\n",
       "\n",
       "    .dataframe tbody tr th {\n",
       "        vertical-align: top;\n",
       "    }\n",
       "\n",
       "    .dataframe thead th {\n",
       "        text-align: right;\n",
       "    }\n",
       "</style>\n",
       "<table border=\"1\" class=\"dataframe\">\n",
       "  <thead>\n",
       "    <tr style=\"text-align: right;\">\n",
       "      <th></th>\n",
       "      <th>X1</th>\n",
       "      <th>X2</th>\n",
       "      <th>X3</th>\n",
       "      <th>X4</th>\n",
       "      <th>X5</th>\n",
       "      <th>X6</th>\n",
       "      <th>X7</th>\n",
       "      <th>X8</th>\n",
       "      <th>X9</th>\n",
       "      <th>X10</th>\n",
       "      <th>...</th>\n",
       "      <th>X247</th>\n",
       "      <th>X248</th>\n",
       "      <th>X249</th>\n",
       "      <th>X250</th>\n",
       "      <th>X251</th>\n",
       "      <th>X252</th>\n",
       "      <th>X253</th>\n",
       "      <th>X254</th>\n",
       "      <th>X255</th>\n",
       "      <th>X256</th>\n",
       "    </tr>\n",
       "  </thead>\n",
       "  <tbody>\n",
       "    <tr>\n",
       "      <th>count</th>\n",
       "      <td>2250.000000</td>\n",
       "      <td>2250.000000</td>\n",
       "      <td>2250.000000</td>\n",
       "      <td>2250.000000</td>\n",
       "      <td>2250.000000</td>\n",
       "      <td>2250.000000</td>\n",
       "      <td>2250.000000</td>\n",
       "      <td>2250.000000</td>\n",
       "      <td>2250.000000</td>\n",
       "      <td>2250.000000</td>\n",
       "      <td>...</td>\n",
       "      <td>2250.000000</td>\n",
       "      <td>2250.000000</td>\n",
       "      <td>2250.000000</td>\n",
       "      <td>2250.000000</td>\n",
       "      <td>2250.000000</td>\n",
       "      <td>2250.000000</td>\n",
       "      <td>2250.000000</td>\n",
       "      <td>2250.000000</td>\n",
       "      <td>2250.000000</td>\n",
       "      <td>2250.000000</td>\n",
       "    </tr>\n",
       "    <tr>\n",
       "      <th>mean</th>\n",
       "      <td>-0.013219</td>\n",
       "      <td>-0.015497</td>\n",
       "      <td>-0.009999</td>\n",
       "      <td>-0.018886</td>\n",
       "      <td>-0.011629</td>\n",
       "      <td>-0.023628</td>\n",
       "      <td>-0.022185</td>\n",
       "      <td>-0.010542</td>\n",
       "      <td>-0.003608</td>\n",
       "      <td>0.000531</td>\n",
       "      <td>...</td>\n",
       "      <td>-0.012268</td>\n",
       "      <td>-0.006543</td>\n",
       "      <td>-0.012566</td>\n",
       "      <td>-0.016625</td>\n",
       "      <td>-0.020497</td>\n",
       "      <td>-0.018933</td>\n",
       "      <td>-0.026451</td>\n",
       "      <td>-0.011895</td>\n",
       "      <td>-0.023695</td>\n",
       "      <td>-0.014592</td>\n",
       "    </tr>\n",
       "    <tr>\n",
       "      <th>std</th>\n",
       "      <td>0.998291</td>\n",
       "      <td>1.002554</td>\n",
       "      <td>0.992860</td>\n",
       "      <td>1.006557</td>\n",
       "      <td>1.009904</td>\n",
       "      <td>1.005727</td>\n",
       "      <td>0.989308</td>\n",
       "      <td>1.007504</td>\n",
       "      <td>0.997434</td>\n",
       "      <td>0.995302</td>\n",
       "      <td>...</td>\n",
       "      <td>0.999760</td>\n",
       "      <td>0.999829</td>\n",
       "      <td>1.006692</td>\n",
       "      <td>0.989872</td>\n",
       "      <td>1.002161</td>\n",
       "      <td>1.011192</td>\n",
       "      <td>1.003608</td>\n",
       "      <td>0.997008</td>\n",
       "      <td>0.982287</td>\n",
       "      <td>0.999071</td>\n",
       "    </tr>\n",
       "    <tr>\n",
       "      <th>min</th>\n",
       "      <td>-2.991474</td>\n",
       "      <td>-3.300566</td>\n",
       "      <td>-2.765310</td>\n",
       "      <td>-3.115712</td>\n",
       "      <td>-2.975049</td>\n",
       "      <td>-3.318397</td>\n",
       "      <td>-2.835168</td>\n",
       "      <td>-3.082623</td>\n",
       "      <td>-2.952046</td>\n",
       "      <td>-3.369833</td>\n",
       "      <td>...</td>\n",
       "      <td>-3.203696</td>\n",
       "      <td>-3.130133</td>\n",
       "      <td>-3.154387</td>\n",
       "      <td>-3.478817</td>\n",
       "      <td>-3.203618</td>\n",
       "      <td>-3.392265</td>\n",
       "      <td>-4.043980</td>\n",
       "      <td>-3.948647</td>\n",
       "      <td>-3.307178</td>\n",
       "      <td>-3.243681</td>\n",
       "    </tr>\n",
       "    <tr>\n",
       "      <th>25%</th>\n",
       "      <td>-0.790133</td>\n",
       "      <td>-0.728758</td>\n",
       "      <td>-0.774848</td>\n",
       "      <td>-0.607563</td>\n",
       "      <td>-0.846604</td>\n",
       "      <td>-0.640620</td>\n",
       "      <td>-0.784537</td>\n",
       "      <td>-0.666217</td>\n",
       "      <td>-0.720765</td>\n",
       "      <td>-0.761317</td>\n",
       "      <td>...</td>\n",
       "      <td>-0.583194</td>\n",
       "      <td>-0.780409</td>\n",
       "      <td>-0.621999</td>\n",
       "      <td>-0.774659</td>\n",
       "      <td>-0.737677</td>\n",
       "      <td>-0.586536</td>\n",
       "      <td>-0.601051</td>\n",
       "      <td>-0.742025</td>\n",
       "      <td>-0.802632</td>\n",
       "      <td>-0.686833</td>\n",
       "    </tr>\n",
       "    <tr>\n",
       "      <th>50%</th>\n",
       "      <td>-0.113707</td>\n",
       "      <td>-0.077784</td>\n",
       "      <td>-0.146538</td>\n",
       "      <td>0.054306</td>\n",
       "      <td>0.062093</td>\n",
       "      <td>-0.043927</td>\n",
       "      <td>-0.123772</td>\n",
       "      <td>-0.068956</td>\n",
       "      <td>0.097385</td>\n",
       "      <td>0.013621</td>\n",
       "      <td>...</td>\n",
       "      <td>0.194333</td>\n",
       "      <td>-0.108668</td>\n",
       "      <td>0.151267</td>\n",
       "      <td>-0.134679</td>\n",
       "      <td>0.101207</td>\n",
       "      <td>0.102760</td>\n",
       "      <td>0.086034</td>\n",
       "      <td>-0.013848</td>\n",
       "      <td>-0.070795</td>\n",
       "      <td>0.115256</td>\n",
       "    </tr>\n",
       "    <tr>\n",
       "      <th>75%</th>\n",
       "      <td>0.667928</td>\n",
       "      <td>0.832256</td>\n",
       "      <td>0.702931</td>\n",
       "      <td>0.633447</td>\n",
       "      <td>0.823974</td>\n",
       "      <td>0.612098</td>\n",
       "      <td>0.676189</td>\n",
       "      <td>0.861246</td>\n",
       "      <td>0.765405</td>\n",
       "      <td>0.832479</td>\n",
       "      <td>...</td>\n",
       "      <td>0.716716</td>\n",
       "      <td>0.672219</td>\n",
       "      <td>0.748418</td>\n",
       "      <td>0.687973</td>\n",
       "      <td>0.770633</td>\n",
       "      <td>0.653305</td>\n",
       "      <td>0.655297</td>\n",
       "      <td>0.748212</td>\n",
       "      <td>0.678693</td>\n",
       "      <td>0.757501</td>\n",
       "    </tr>\n",
       "    <tr>\n",
       "      <th>max</th>\n",
       "      <td>2.790291</td>\n",
       "      <td>2.408981</td>\n",
       "      <td>2.860253</td>\n",
       "      <td>3.135343</td>\n",
       "      <td>2.408883</td>\n",
       "      <td>2.660080</td>\n",
       "      <td>3.051340</td>\n",
       "      <td>2.111059</td>\n",
       "      <td>2.354763</td>\n",
       "      <td>2.264558</td>\n",
       "      <td>...</td>\n",
       "      <td>2.206698</td>\n",
       "      <td>2.656900</td>\n",
       "      <td>2.223092</td>\n",
       "      <td>2.800699</td>\n",
       "      <td>2.067773</td>\n",
       "      <td>3.395259</td>\n",
       "      <td>3.002900</td>\n",
       "      <td>2.623518</td>\n",
       "      <td>2.612141</td>\n",
       "      <td>2.159839</td>\n",
       "    </tr>\n",
       "  </tbody>\n",
       "</table>\n",
       "<p>8 rows × 256 columns</p>\n",
       "</div>"
      ],
      "text/plain": [
       "                X1           X2           X3           X4           X5  \\\n",
       "count  2250.000000  2250.000000  2250.000000  2250.000000  2250.000000   \n",
       "mean     -0.013219    -0.015497    -0.009999    -0.018886    -0.011629   \n",
       "std       0.998291     1.002554     0.992860     1.006557     1.009904   \n",
       "min      -2.991474    -3.300566    -2.765310    -3.115712    -2.975049   \n",
       "25%      -0.790133    -0.728758    -0.774848    -0.607563    -0.846604   \n",
       "50%      -0.113707    -0.077784    -0.146538     0.054306     0.062093   \n",
       "75%       0.667928     0.832256     0.702931     0.633447     0.823974   \n",
       "max       2.790291     2.408981     2.860253     3.135343     2.408883   \n",
       "\n",
       "                X6           X7           X8           X9          X10  ...  \\\n",
       "count  2250.000000  2250.000000  2250.000000  2250.000000  2250.000000  ...   \n",
       "mean     -0.023628    -0.022185    -0.010542    -0.003608     0.000531  ...   \n",
       "std       1.005727     0.989308     1.007504     0.997434     0.995302  ...   \n",
       "min      -3.318397    -2.835168    -3.082623    -2.952046    -3.369833  ...   \n",
       "25%      -0.640620    -0.784537    -0.666217    -0.720765    -0.761317  ...   \n",
       "50%      -0.043927    -0.123772    -0.068956     0.097385     0.013621  ...   \n",
       "75%       0.612098     0.676189     0.861246     0.765405     0.832479  ...   \n",
       "max       2.660080     3.051340     2.111059     2.354763     2.264558  ...   \n",
       "\n",
       "              X247         X248         X249         X250         X251  \\\n",
       "count  2250.000000  2250.000000  2250.000000  2250.000000  2250.000000   \n",
       "mean     -0.012268    -0.006543    -0.012566    -0.016625    -0.020497   \n",
       "std       0.999760     0.999829     1.006692     0.989872     1.002161   \n",
       "min      -3.203696    -3.130133    -3.154387    -3.478817    -3.203618   \n",
       "25%      -0.583194    -0.780409    -0.621999    -0.774659    -0.737677   \n",
       "50%       0.194333    -0.108668     0.151267    -0.134679     0.101207   \n",
       "75%       0.716716     0.672219     0.748418     0.687973     0.770633   \n",
       "max       2.206698     2.656900     2.223092     2.800699     2.067773   \n",
       "\n",
       "              X252         X253         X254         X255         X256  \n",
       "count  2250.000000  2250.000000  2250.000000  2250.000000  2250.000000  \n",
       "mean     -0.018933    -0.026451    -0.011895    -0.023695    -0.014592  \n",
       "std       1.011192     1.003608     0.997008     0.982287     0.999071  \n",
       "min      -3.392265    -4.043980    -3.948647    -3.307178    -3.243681  \n",
       "25%      -0.586536    -0.601051    -0.742025    -0.802632    -0.686833  \n",
       "50%       0.102760     0.086034    -0.013848    -0.070795     0.115256  \n",
       "75%       0.653305     0.655297     0.748212     0.678693     0.757501  \n",
       "max       3.395259     3.002900     2.623518     2.612141     2.159839  \n",
       "\n",
       "[8 rows x 256 columns]"
      ]
     },
     "execution_count": 8,
     "metadata": {},
     "output_type": "execute_result"
    }
   ],
   "source": [
    "data.describe()"
   ]
  },
  {
   "cell_type": "code",
   "execution_count": 9,
   "metadata": {
    "colab": {
     "base_uri": "https://localhost:8080/",
     "height": 280
    },
    "id": "CHZN4WConF5j",
    "outputId": "7a35d97b-3a01-4775-906a-8df0b2d0511d"
   },
   "outputs": [
    {
     "data": {
      "text/plain": [
       "array([[<AxesSubplot:title={'center':'X1'}>,\n",
       "        <AxesSubplot:title={'center':'X2'}>,\n",
       "        <AxesSubplot:title={'center':'X3'}>],\n",
       "       [<AxesSubplot:title={'center':'X4'}>,\n",
       "        <AxesSubplot:title={'center':'X5'}>,\n",
       "        <AxesSubplot:title={'center':'X6'}>],\n",
       "       [<AxesSubplot:title={'center':'X7'}>,\n",
       "        <AxesSubplot:title={'center':'X8'}>,\n",
       "        <AxesSubplot:title={'center':'X9'}>],\n",
       "       [<AxesSubplot:title={'center':'X10'}>,\n",
       "        <AxesSubplot:title={'center':'X11'}>,\n",
       "        <AxesSubplot:title={'center':'X12'}>]], dtype=object)"
      ]
     },
     "execution_count": 9,
     "metadata": {},
     "output_type": "execute_result"
    },
    {
     "data": {
      "image/png": "[encoded data removed]",
      "text/plain": [
       "<Figure size 1440x1080 with 12 Axes>"
      ]
     },
     "metadata": {
      "needs_background": "light"
     },
     "output_type": "display_data"
    }
   ],
   "source": [
    "# Plot a histogram for each numerical attribute \n",
    "\n",
    "%matplotlib inline\n",
    "\n",
    "data[data.columns[0:12]].hist(figsize = (20,15))"
   ]
  },
  {
   "cell_type": "markdown",
   "metadata": {
    "id": "Y0J6R9knOH47"
   },
   "source": [
    "these attributes have same scale and they are distributed around 0 in interval [-3,3] "
   ]
  },
  {
   "cell_type": "code",
   "execution_count": 10,
   "metadata": {},
   "outputs": [],
   "source": [
    "from sklearn.model_selection import train_test_split\n",
    "\n",
    "# X = data"
   ]
  },
  {
   "cell_type": "code",
   "execution_count": 11,
   "metadata": {},
   "outputs": [],
   "source": [
    "def separate_features_target(data):\n",
    "    X_cols = []\n",
    "    for col in data.columns: \n",
    "        if(col != 'y'):\n",
    "            X_cols.append(col)\n",
    "    \n",
    "    return data[X_cols] , data['y']        \n",
    "\n",
    "\n",
    "X_data, y_data = separate_features_target(data)"
   ]
  },
  {
   "cell_type": "code",
   "execution_count": 12,
   "metadata": {},
   "outputs": [
    {
     "data": {
      "text/plain": [
       "0       dcl\n",
       "1        ao\n",
       "2        iy\n",
       "3        iy\n",
       "4        iy\n",
       "       ... \n",
       "2245     iy\n",
       "2246    dcl\n",
       "2247     sh\n",
       "2248    dcl\n",
       "2249     iy\n",
       "Name: y, Length: 2250, dtype: object"
      ]
     },
     "execution_count": 12,
     "metadata": {},
     "output_type": "execute_result"
    }
   ],
   "source": [
    "y_data"
   ]
  },
  {
   "cell_type": "markdown",
   "metadata": {},
   "source": [
    "## PCA Analyse"
   ]
  },
  {
   "cell_type": "markdown",
   "metadata": {},
   "source": [
    "First, we performed a principal component analysis to reduce the number of explanatory variables in order to visualize the data given their high dimensionality. Then, we created the sets that we will use later for cross-validation."
   ]
  },
  {
   "cell_type": "markdown",
   "metadata": {},
   "source": [
    "PCA is effected by scale but not nessary because data atributes have same scale"
   ]
  },
  {
   "cell_type": "code",
   "execution_count": 13,
   "metadata": {},
   "outputs": [],
   "source": [
    "from sklearn.decomposition import PCA\n",
    "\n",
    "pca = PCA(n_components=2)\n",
    "principalComponents = pca.fit_transform(X_data)\n",
    "principalDf = pd.DataFrame(data = principalComponents\n",
    "             , columns = ['principal component 1', 'principal component 2'])"
   ]
  },
  {
   "cell_type": "code",
   "execution_count": 14,
   "metadata": {},
   "outputs": [
    {
     "data": {
      "text/html": [
       "<div>\n",
       "<style scoped>\n",
       "    .dataframe tbody tr th:only-of-type {\n",
       "        vertical-align: middle;\n",
       "    }\n",
       "\n",
       "    .dataframe tbody tr th {\n",
       "        vertical-align: top;\n",
       "    }\n",
       "\n",
       "    .dataframe thead th {\n",
       "        text-align: right;\n",
       "    }\n",
       "</style>\n",
       "<table border=\"1\" class=\"dataframe\">\n",
       "  <thead>\n",
       "    <tr style=\"text-align: right;\">\n",
       "      <th></th>\n",
       "      <th>principal component 1</th>\n",
       "      <th>principal component 2</th>\n",
       "    </tr>\n",
       "  </thead>\n",
       "  <tbody>\n",
       "    <tr>\n",
       "      <th>0</th>\n",
       "      <td>-24.938485</td>\n",
       "      <td>10.594191</td>\n",
       "    </tr>\n",
       "    <tr>\n",
       "      <th>1</th>\n",
       "      <td>5.481803</td>\n",
       "      <td>-6.239419</td>\n",
       "    </tr>\n",
       "    <tr>\n",
       "      <th>2</th>\n",
       "      <td>4.388394</td>\n",
       "      <td>-1.969569</td>\n",
       "    </tr>\n",
       "    <tr>\n",
       "      <th>3</th>\n",
       "      <td>-1.406654</td>\n",
       "      <td>-3.187075</td>\n",
       "    </tr>\n",
       "    <tr>\n",
       "      <th>4</th>\n",
       "      <td>3.651482</td>\n",
       "      <td>-0.219442</td>\n",
       "    </tr>\n",
       "    <tr>\n",
       "      <th>...</th>\n",
       "      <td>...</td>\n",
       "      <td>...</td>\n",
       "    </tr>\n",
       "    <tr>\n",
       "      <th>2245</th>\n",
       "      <td>-2.129669</td>\n",
       "      <td>-2.158515</td>\n",
       "    </tr>\n",
       "    <tr>\n",
       "      <th>2246</th>\n",
       "      <td>-23.983351</td>\n",
       "      <td>10.104300</td>\n",
       "    </tr>\n",
       "    <tr>\n",
       "      <th>2247</th>\n",
       "      <td>16.791997</td>\n",
       "      <td>6.872594</td>\n",
       "    </tr>\n",
       "    <tr>\n",
       "      <th>2248</th>\n",
       "      <td>-22.992368</td>\n",
       "      <td>7.657830</td>\n",
       "    </tr>\n",
       "    <tr>\n",
       "      <th>2249</th>\n",
       "      <td>-6.013768</td>\n",
       "      <td>-3.287428</td>\n",
       "    </tr>\n",
       "  </tbody>\n",
       "</table>\n",
       "<p>2250 rows × 2 columns</p>\n",
       "</div>"
      ],
      "text/plain": [
       "      principal component 1  principal component 2\n",
       "0                -24.938485              10.594191\n",
       "1                  5.481803              -6.239419\n",
       "2                  4.388394              -1.969569\n",
       "3                 -1.406654              -3.187075\n",
       "4                  3.651482              -0.219442\n",
       "...                     ...                    ...\n",
       "2245              -2.129669              -2.158515\n",
       "2246             -23.983351              10.104300\n",
       "2247              16.791997               6.872594\n",
       "2248             -22.992368               7.657830\n",
       "2249              -6.013768              -3.287428\n",
       "\n",
       "[2250 rows x 2 columns]"
      ]
     },
     "execution_count": 14,
     "metadata": {},
     "output_type": "execute_result"
    }
   ],
   "source": [
    "principalDf"
   ]
  },
  {
   "cell_type": "code",
   "execution_count": 15,
   "metadata": {},
   "outputs": [],
   "source": [
    "finalDf = pd.concat([principalDf, y_data], axis = 1) "
   ]
  },
  {
   "cell_type": "code",
   "execution_count": 16,
   "metadata": {},
   "outputs": [
    {
     "data": {
      "image/png": "[encoded data removed]",
      "text/plain": [
       "<Figure size 576x576 with 1 Axes>"
      ]
     },
     "metadata": {
      "needs_background": "light"
     },
     "output_type": "display_data"
    }
   ],
   "source": [
    "fig = plt.figure(figsize = (8,8))\n",
    "ax = fig.add_subplot(1,1,1) \n",
    "ax.set_xlabel('Principal Component 1', fontsize = 15)\n",
    "ax.set_ylabel('Principal Component 2', fontsize = 15)\n",
    "ax.set_title('2 component PCA', fontsize = 20)\n",
    "targets = ['iy','ao','sh','dcl','aa']\n",
    "colors = ['r', 'g', 'b']\n",
    "for target, color in zip(targets,colors):\n",
    "    indicesToKeep = finalDf['y'] == target\n",
    "    ax.scatter(finalDf.loc[indicesToKeep, 'principal component 1']\n",
    "               , finalDf.loc[indicesToKeep, 'principal component 2']\n",
    "               , c = color\n",
    "               , s = 50)\n",
    "ax.legend(targets)\n",
    "ax.grid()"
   ]
  },
  {
   "cell_type": "code",
   "execution_count": 17,
   "metadata": {},
   "outputs": [
    {
     "data": {
      "text/plain": [
       "array([0.55167528, 0.15207649])"
      ]
     },
     "execution_count": 17,
     "metadata": {},
     "output_type": "execute_result"
    }
   ],
   "source": [
    "pca.explained_variance_ratio_"
   ]
  },
  {
   "cell_type": "markdown",
   "metadata": {},
   "source": [
    "This chart plots the percentage of variance explained against the number of principal components. We notice that PC1 explains 55% of the total variance and PC2 15%. Therefore, with these two components we can represent 70% of the information contained by the 256 variables. And as a result, obtain a rather faithful representation of individuals in 2 dimensions. The projection on the factorial axes reveals three clusters, two of which can easily be assimilated to distinct classes of phonemes."
   ]
  },
  {
   "cell_type": "markdown",
   "metadata": {},
   "source": [
    "## Prepare the Data for Machine Learning Algorithms"
   ]
  },
  {
   "cell_type": "markdown",
   "metadata": {
    "colab": {
     "base_uri": "https://localhost:8080/",
     "height": 33
    },
    "id": "7Sx0F85BCC_4",
    "outputId": "17675ce3-aab6-464b-9dc9-078b32b435d6"
   },
   "source": [
    "### Create a train/test Set "
   ]
  },
  {
   "cell_type": "code",
   "execution_count": 18,
   "metadata": {
    "id": "EykJ7V92GETA"
   },
   "outputs": [],
   "source": [
    "def split_train_test(data, test_ratio):\n",
    "    np.random.seed(42)\n",
    "    shuffled_indices = np.random.permutation(len(data))\n",
    "    test_set_size    = int(len(data) * test_ratio)\n",
    "    test_indices     = shuffled_indices[:test_set_size]\n",
    "    train_indices    = shuffled_indices[test_set_size:]\n",
    "    return data.iloc[train_indices], data.iloc[test_indices]"
   ]
  },
  {
   "cell_type": "code",
   "execution_count": 19,
   "metadata": {},
   "outputs": [
    {
     "name": "stdout",
     "output_type": "stream",
     "text": [
      "size of train data :  2025\n",
      "size of test data  :  225\n"
     ]
    }
   ],
   "source": [
    "train_set, test_set = split_train_test(data , 0.1)\\\n",
    "\n",
    "print(\"size of train data : \", len(train_set))\n",
    "print(\"size of test data  : \", len(test_set ))"
   ]
  },
  {
   "cell_type": "code",
   "execution_count": 20,
   "metadata": {},
   "outputs": [],
   "source": [
    "X_train, y_train = separate_features_target(train_set)\n",
    "\n",
    "X_test,  y_test  = separate_features_target(test_set)"
   ]
  },
  {
   "cell_type": "markdown",
   "metadata": {},
   "source": [
    "### Training and Evaluating on the Training Set"
   ]
  },
  {
   "cell_type": "code",
   "execution_count": 21,
   "metadata": {},
   "outputs": [],
   "source": [
    "from sklearn.model_selection import RepeatedStratifiedKFold\n",
    "from sklearn.model_selection import cross_val_score\n",
    "from statistics import mean"
   ]
  },
  {
   "cell_type": "markdown",
   "metadata": {},
   "source": [
    "## Choosing model \n",
    "\n",
    "### Model Comparison Methodology:\n",
    "\n",
    "To begin with, we created a 10-CV cross-validation function to compare the results of different classification models. The purpose of this is to evaluate the accuracy of our model on several test subsets and then to average them and thus obtain more reliable results. We have adapted it to the different models tested."
   ]
  },
  {
   "cell_type": "code",
   "execution_count": 145,
   "metadata": {},
   "outputs": [],
   "source": [
    "def display_scores(scores, model, kernel):\n",
    "     print(\"Mean accuracy of \",model, \" \",kernel, \":\",  round(scores.mean(),3), \"Standard deviation : \", round(scores.std(),3) )"
   ]
  },
  {
   "cell_type": "code",
   "execution_count": 165,
   "metadata": {},
   "outputs": [],
   "source": [
    "def cross_validation(X_train=X_train, y_train=y_train, model=\"\", kernel=\"\", folds=1):\n",
    "    \n",
    "    cv = RepeatedStratifiedKFold(n_splits=folds, n_repeats=3, random_state=1)\n",
    "\n",
    "    if (model == \"LDA\"):\n",
    "        scores = LDA_cross_validiation_accuracy(X_train, y_train,cv)\n",
    "    elif (model == \"QDA\"):\n",
    "        scores = QDA_cross_validiation_accuracy(X_train, y_train,cv)\n",
    "    elif (model == \"NB\"):\n",
    "        scores = NB_cross_validiation_accuracy(X_train, y_train,cv)\n",
    "    elif (model == \"KNN\"):\n",
    "        scores = KNN_cross_validiation_accuracy(X_train, y_train,cv)\n",
    "    elif (model == \"SVM\"):\n",
    "        scores = SVM_cross_validiation_accuracy(X_train, y_train,cv, kernel)\n",
    "    elif (model == \"RF\"):\n",
    "        scores = RF_cross_validiation_accuracy(X_train, y_train,cv)         \n",
    "\n",
    "    display_scores(scores, model, kernel)"
   ]
  },
  {
   "cell_type": "markdown",
   "metadata": {},
   "source": [
    "### Discriminant analysis methods\n",
    "\n",
    "We first looked at discriminating models. Here we find ourselves with a high p and n.\n",
    "\n",
    "Discriminant analysis encompasses methods that can be used for both classification and dimensionality reduction. Linear discriminant analysis (LDA) is particularly popular because it is both a classifier and a dimensionality reduction technique. Quadratic discriminant analysis (QDA) is a variant of LDA that allows nonlinear separation of data. The QDA may not be efficient in our case because of its large number of parameters. The results presented are the MSEs obtained for the different models."
   ]
  },
  {
   "cell_type": "code",
   "execution_count": 150,
   "metadata": {},
   "outputs": [],
   "source": [
    "import sklearn.discriminant_analysis\n",
    "from sklearn.discriminant_analysis import LinearDiscriminantAnalysis\n",
    "from sklearn.discriminant_analysis import QuadraticDiscriminantAnalysis\n",
    "\n",
    "\n",
    "### LDA ###\n",
    "\n",
    "def LDA_cross_validiation_accuracy(X_train, y_train, cv):\n",
    "    model = LinearDiscriminantAnalysis()\n",
    "    # evaluate model\n",
    "    scores = cross_val_score(model, X_train, y_train, scoring='accuracy', cv=cv, n_jobs=-1)\n",
    "    return scores\n",
    "\n",
    "### QDA ###\n",
    "\n",
    "def QDA_cross_validiation_accuracy(X_train, y_train, cv):\n",
    "    model = QuadraticDiscriminantAnalysis()\n",
    "    # evaluate model\n",
    "    scores = cross_val_score(model, X_train, y_train, scoring='accuracy', cv=cv, n_jobs=-1)\n",
    "    return scores"
   ]
  },
  {
   "cell_type": "code",
   "execution_count": 151,
   "metadata": {},
   "outputs": [
    {
     "name": "stdout",
     "output_type": "stream",
     "text": [
      "Mean accuracy of  LDA    : 0.92 Standard deviation :  0.016\n",
      "Mean accuracy of  QDA    : 0.618 Standard deviation :  0.013\n"
     ]
    }
   ],
   "source": [
    "X, y = separate_features_target(data) \n",
    "\n",
    "cross_validation(X_train, y_train, \"LDA\",\"\",10)\n",
    "cross_validation(X_train, y_train, \"QDA\",\"\", 10)"
   ]
  },
  {
   "cell_type": "code",
   "execution_count": null,
   "metadata": {},
   "outputs": [],
   "source": []
  },
  {
   "cell_type": "markdown",
   "metadata": {},
   "source": [
    "We notice that the LDA makes it possible to obtain a good performance."
   ]
  },
  {
   "cell_type": "markdown",
   "metadata": {},
   "source": [
    "### Naive Bayes "
   ]
  },
  {
   "cell_type": "code",
   "execution_count": 152,
   "metadata": {},
   "outputs": [],
   "source": [
    "from sklearn.naive_bayes import GaussianNB\n",
    "\n",
    "def NB_cross_validiation_accuracy(X_train, y_train, cv):\n",
    "    model = GaussianNB()\n",
    "    # evaluate model\n",
    "    scores = cross_val_score(model, X_train, y_train, scoring='accuracy', cv=cv, n_jobs=-1)\n",
    "    return scores"
   ]
  },
  {
   "cell_type": "code",
   "execution_count": 153,
   "metadata": {},
   "outputs": [
    {
     "name": "stdout",
     "output_type": "stream",
     "text": [
      "Mean accuracy of  NB    : 0.881 Standard deviation :  0.021\n"
     ]
    }
   ],
   "source": [
    "cross_validation(X_train, y_train, \"NB\",\"\" , 10)"
   ]
  },
  {
   "cell_type": "markdown",
   "metadata": {},
   "source": [
    "Find best k by testing different possible values of k, then choosing the optimal k that minimizes the cross-validation (\"cv\") error and fits the final best KNN model that best explains our data"
   ]
  },
  {
   "cell_type": "markdown",
   "metadata": {},
   "source": [
    "### K-Nearest Neighbors "
   ]
  },
  {
   "cell_type": "code",
   "execution_count": 154,
   "metadata": {},
   "outputs": [
    {
     "name": "stdout",
     "output_type": "stream",
     "text": [
      "Minimum error:- 0.06222222222222222 at K = 7\n"
     ]
    },
    {
     "data": {
      "image/png": "[encoded data removed]",
      "text/plain": [
       "<Figure size 720x432 with 1 Axes>"
      ]
     },
     "metadata": {
      "needs_background": "light"
     },
     "output_type": "display_data"
    }
   ],
   "source": [
    "from sklearn.neighbors import KNeighborsClassifier\n",
    "\n",
    "\n",
    "error_rate = []\n",
    "for i in range(1,20):\n",
    "     knn = KNeighborsClassifier(n_neighbors=i)\n",
    "     knn.fit(X_train,y_train)\n",
    "     pred_i = knn.predict(X_test)\n",
    "     error_rate.append(np.mean(pred_i != y_test))\n",
    "\n",
    "plt.figure(figsize=(10,6))\n",
    "plt.plot(range(1,20),error_rate,color='blue', linestyle='dashed', \n",
    "         marker='o',markerfacecolor='red', markersize=10)\n",
    "plt.title('Error Rate vs. K Value')\n",
    "plt.xlabel('K')\n",
    "plt.ylabel('Error Rate')\n",
    "print(\"Minimum error:-\",min(error_rate),\"at K =\",error_rate.index(min(error_rate)))"
   ]
  },
  {
   "cell_type": "code",
   "execution_count": 155,
   "metadata": {},
   "outputs": [
    {
     "name": "stdout",
     "output_type": "stream",
     "text": [
      "Maximum accuracy:- 0.9377777777777778 at K = 7\n"
     ]
    },
    {
     "data": {
      "image/png": "[encoded data removed]",
      "text/plain": [
       "<Figure size 720x432 with 1 Axes>"
      ]
     },
     "metadata": {
      "needs_background": "light"
     },
     "output_type": "display_data"
    }
   ],
   "source": [
    "acc = []\n",
    "# Will take some time\n",
    "from sklearn import metrics\n",
    "for i in range(1,40):\n",
    "    neigh = KNeighborsClassifier(n_neighbors = i).fit(X_train,y_train)\n",
    "    yhat = neigh.predict(X_test)\n",
    "    acc.append(metrics.accuracy_score(y_test, yhat))\n",
    "    \n",
    "plt.figure(figsize=(10,6))\n",
    "plt.plot(range(1,40),acc,color = 'blue',linestyle='dashed', \n",
    "         marker='o',markerfacecolor='red', markersize=10)\n",
    "plt.title('accuracy vs. K Value')\n",
    "plt.xlabel('K')\n",
    "plt.ylabel('Accuracy')\n",
    "print(\"Maximum accuracy:-\",max(acc),\"at K =\",acc.index(max(acc)))"
   ]
  },
  {
   "cell_type": "code",
   "execution_count": 156,
   "metadata": {},
   "outputs": [],
   "source": [
    "\n",
    "def KNN_cross_validiation_accuracy(X_train, y_train, cv):\n",
    "    model = KNeighborsClassifier(n_neighbors=7)\n",
    "    # evaluate model\n",
    "    scores = cross_val_score(model, X_train, y_train, scoring='accuracy', cv=cv, n_jobs=-1)\n",
    "    return scores\n"
   ]
  },
  {
   "cell_type": "code",
   "execution_count": 157,
   "metadata": {},
   "outputs": [
    {
     "name": "stdout",
     "output_type": "stream",
     "text": [
      "Mean accuracy of  KNN    : 0.904 Standard deviation :  0.016\n"
     ]
    }
   ],
   "source": [
    "cross_validation(X_train, y_train,\"KNN\",\"\", 10)"
   ]
  },
  {
   "cell_type": "markdown",
   "metadata": {},
   "source": [
    "### SVM (Support vector machine)\n",
    "\n",
    "We are now interested in linear and radial SVMs. SVMs methods can be applied in the case of multi-class classification, they then decompose the problem into several binary classification problems. The method applied here is the one-on-one method. The difference between the two methods presented below is that one finds its linear boundaries in the prediction space while the other, more flexible, allows to widen the prediction space in order to find a better linear boundary in a new space."
   ]
  },
  {
   "cell_type": "code",
   "execution_count": 159,
   "metadata": {},
   "outputs": [],
   "source": [
    "from sklearn.svm import SVC\n",
    "\n",
    "def SVM_cross_validiation_accuracy(X_train, y_train, cv, kernel):\n",
    "    model = SVC(kernel=kernel)\n",
    "    # evaluate model\n",
    "    \n",
    "    if (kernel == \"poly\"):\n",
    "            model = SVC(kernel=kernel, degree=3)\n",
    "    \n",
    "    scores = cross_val_score(model, X_train, y_train, scoring='accuracy', cv=cv, n_jobs=-1)\n",
    "    \n",
    "    return scores\n"
   ]
  },
  {
   "cell_type": "code",
   "execution_count": 160,
   "metadata": {},
   "outputs": [
    {
     "name": "stdout",
     "output_type": "stream",
     "text": [
      "Mean accuracy of  SVM   linear : 0.899 Standard deviation :  0.017\n",
      "Mean accuracy of  SVM   rbf : 0.93 Standard deviation :  0.015\n",
      "Mean accuracy of  SVM   poly : 0.898 Standard deviation :  0.015\n"
     ]
    }
   ],
   "source": [
    "cross_validation(X_train, y_train, \"SVM\", \"linear\", 10)\n",
    "cross_validation(X_train, y_train, \"SVM\", \"rbf\"   , 10)\n",
    "cross_validation(X_train, y_train, \"SVM\", \"poly\"  ,10)"
   ]
  },
  {
   "cell_type": "markdown",
   "metadata": {},
   "source": [
    "We obtain a better result with the radial SVM. We then looked at other methods known for their performance on high-dimensional datasets."
   ]
  },
  {
   "cell_type": "markdown",
   "metadata": {},
   "source": [
    "### Random forests\n",
    "\n",
    "The random forest method is based on the bagging system and is composed of several decision trees, working independently on a vision of a problem. Each produces an estimate, and it is the assembly of the decision trees and their analyzes that will give an overall estimate. The most frequent response category is chosen. Rather than using all the results obtained, a selection is made by looking for the forecast that comes up most often. This allows for better results than with a single decision tree."
   ]
  },
  {
   "cell_type": "code",
   "execution_count": 172,
   "metadata": {},
   "outputs": [],
   "source": [
    "from sklearn.ensemble import RandomForestClassifier\n",
    "\n",
    "def RF_cross_validiation_accuracy(X_train, y_train, cv):\n",
    "    model = RandomForestClassifier(n_estimators = 500,max_leaf_nodes=16, n_jobs=-1)\n",
    "    # evaluate model\n",
    "    scores = cross_val_score(model, X_train, y_train, scoring='accuracy', cv=cv, n_jobs=-1)\n",
    "    \n",
    "    return scores\n",
    "\n"
   ]
  },
  {
   "cell_type": "code",
   "execution_count": 173,
   "metadata": {},
   "outputs": [
    {
     "name": "stdout",
     "output_type": "stream",
     "text": [
      "Mean accuracy of  RF    : 0.92 Standard deviation :  0.016\n"
     ]
    }
   ],
   "source": [
    "cross_validation(X_train, y_train, \"RF\",\"\", 10)"
   ]
  },
  {
   "cell_type": "markdown",
   "metadata": {},
   "source": [
    "## Best results \n",
    "\n",
    "We obtain the best precision with the radial SVM model. This can be explained by the fact that these two methods work very well in the case of high-dimensional spaces, which is the case here."
   ]
  }
 ],
 "metadata": {
  "colab": {
   "collapsed_sections": [],
   "name": "Projet_SY19_2_dataset2.ipynb",
   "provenance": []
  },
  "interpreter": {
   "hash": "07fe07cc502013ed4d3ea924ed4efa69c654cdd6ad9d80758edc7223f228a4d6"
  },
  "kernelspec": {
   "display_name": "Python 3 (ipykernel)",
   "language": "python",
   "name": "python3"
  },
  "language_info": {
   "codemirror_mode": {
    "name": "ipython",
    "version": 3
   },
   "file_extension": ".py",
   "mimetype": "text/x-python",
   "name": "python",
   "nbconvert_exporter": "python",
   "pygments_lexer": "ipython3",
   "version": "3.9.7"
  }
 },
 "nbformat": 4,
 "nbformat_minor": 1
}
